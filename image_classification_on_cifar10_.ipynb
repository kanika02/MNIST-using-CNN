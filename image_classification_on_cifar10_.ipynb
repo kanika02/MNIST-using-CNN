{
  "nbformat": 4,
  "nbformat_minor": 0,
  "metadata": {
    "colab": {
      "name": "image classification on cifar10 .ipynb",
      "provenance": [],
      "collapsed_sections": []
    },
    "kernelspec": {
      "name": "python3",
      "display_name": "Python 3"
    },
    "language_info": {
      "name": "python"
    }
  },
  "cells": [
    {
      "cell_type": "code",
      "metadata": {
        "id": "3gZxLw3s-iNR"
      },
      "source": [
        "import cv2\n",
        "import pandas as pd\n",
        "import numpy as np\n",
        "import matplotlib.pyplot as plt\n",
        "import tensorflow as tf\n",
        "from tensorflow.keras import datasets,layers,models\n",
        "from tensorflow import keras"
      ],
      "execution_count": null,
      "outputs": []
    },
    {
      "cell_type": "code",
      "metadata": {
        "id": "mDqur3AGC5G6",
        "colab": {
          "base_uri": "https://localhost:8080/"
        },
        "outputId": "c03980cf-1ead-469a-82d4-fb63d4faaf0f"
      },
      "source": [
        "# loading cifar10 database\n",
        "(x_train,y_train),(x_test,y_test)=datasets.cifar10.load_data()"
      ],
      "execution_count": null,
      "outputs": [
        {
          "output_type": "stream",
          "text": [
            "Downloading data from https://www.cs.toronto.edu/~kriz/cifar-10-python.tar.gz\n",
            "170500096/170498071 [==============================] - 2s 0us/step\n"
          ],
          "name": "stdout"
        }
      ]
    },
    {
      "cell_type": "code",
      "metadata": {
        "colab": {
          "base_uri": "https://localhost:8080/"
        },
        "id": "uvl1HOcxDxdO",
        "outputId": "91ff691e-9961-47f9-8a1e-fd66b25c7532"
      },
      "source": [
        "x_train.shape    # we have 50,000 samples each sample is 32 by 32 image and 3 is for rgb channels"
      ],
      "execution_count": null,
      "outputs": [
        {
          "output_type": "execute_result",
          "data": {
            "text/plain": [
              "(50000, 32, 32, 3)"
            ]
          },
          "metadata": {
            "tags": []
          },
          "execution_count": 11
        }
      ]
    },
    {
      "cell_type": "code",
      "metadata": {
        "colab": {
          "base_uri": "https://localhost:8080/"
        },
        "id": "Zj5VF22sEOHK",
        "outputId": "d39efe32-b4a1-41da-e4ff-f5c288bd3069"
      },
      "source": [
        "x_test.shape     "
      ],
      "execution_count": null,
      "outputs": [
        {
          "output_type": "execute_result",
          "data": {
            "text/plain": [
              "(10000, 32, 32, 3)"
            ]
          },
          "metadata": {
            "tags": []
          },
          "execution_count": 12
        }
      ]
    },
    {
      "cell_type": "code",
      "metadata": {
        "colab": {
          "base_uri": "https://localhost:8080/"
        },
        "id": "GMUW_ANcEZZ9",
        "outputId": "9e489faf-1e64-4fc9-f33a-d2f8015cfe87"
      },
      "source": [
        "# we are checking the data\n",
        "x_train[0]"
      ],
      "execution_count": null,
      "outputs": [
        {
          "output_type": "execute_result",
          "data": {
            "text/plain": [
              "array([[[ 59,  62,  63],\n",
              "        [ 43,  46,  45],\n",
              "        [ 50,  48,  43],\n",
              "        ...,\n",
              "        [158, 132, 108],\n",
              "        [152, 125, 102],\n",
              "        [148, 124, 103]],\n",
              "\n",
              "       [[ 16,  20,  20],\n",
              "        [  0,   0,   0],\n",
              "        [ 18,   8,   0],\n",
              "        ...,\n",
              "        [123,  88,  55],\n",
              "        [119,  83,  50],\n",
              "        [122,  87,  57]],\n",
              "\n",
              "       [[ 25,  24,  21],\n",
              "        [ 16,   7,   0],\n",
              "        [ 49,  27,   8],\n",
              "        ...,\n",
              "        [118,  84,  50],\n",
              "        [120,  84,  50],\n",
              "        [109,  73,  42]],\n",
              "\n",
              "       ...,\n",
              "\n",
              "       [[208, 170,  96],\n",
              "        [201, 153,  34],\n",
              "        [198, 161,  26],\n",
              "        ...,\n",
              "        [160, 133,  70],\n",
              "        [ 56,  31,   7],\n",
              "        [ 53,  34,  20]],\n",
              "\n",
              "       [[180, 139,  96],\n",
              "        [173, 123,  42],\n",
              "        [186, 144,  30],\n",
              "        ...,\n",
              "        [184, 148,  94],\n",
              "        [ 97,  62,  34],\n",
              "        [ 83,  53,  34]],\n",
              "\n",
              "       [[177, 144, 116],\n",
              "        [168, 129,  94],\n",
              "        [179, 142,  87],\n",
              "        ...,\n",
              "        [216, 184, 140],\n",
              "        [151, 118,  84],\n",
              "        [123,  92,  72]]], dtype=uint8)"
            ]
          },
          "metadata": {
            "tags": []
          },
          "execution_count": 13
        }
      ]
    },
    {
      "cell_type": "code",
      "metadata": {
        "colab": {
          "base_uri": "https://localhost:8080/"
        },
        "id": "4ejKpa13GLAw",
        "outputId": "e5b227e4-4f4c-41ee-d74c-75c88c532eb8"
      },
      "source": [
        "y_train.shape"
      ],
      "execution_count": null,
      "outputs": [
        {
          "output_type": "execute_result",
          "data": {
            "text/plain": [
              "(50000, 1)"
            ]
          },
          "metadata": {
            "tags": []
          },
          "execution_count": 14
        }
      ]
    },
    {
      "cell_type": "code",
      "metadata": {
        "colab": {
          "base_uri": "https://localhost:8080/"
        },
        "id": "BQfIPvhDEgrp",
        "outputId": "aada2a5c-2388-4007-95fc-dbc4cd2ddf27"
      },
      "source": [
        "y_train[:5]  # print first 5 labels like in 6th we have aeroplane in 9 we have bird\n",
        "# we get a 2-d array but we dont need a 2-d array so we reshape thsi into 1-d"
      ],
      "execution_count": null,
      "outputs": [
        {
          "output_type": "execute_result",
          "data": {
            "text/plain": [
              "array([[6],\n",
              "       [9],\n",
              "       [9],\n",
              "       [4],\n",
              "       [1]], dtype=uint8)"
            ]
          },
          "metadata": {
            "tags": []
          },
          "execution_count": 15
        }
      ]
    },
    {
      "cell_type": "code",
      "metadata": {
        "colab": {
          "base_uri": "https://localhost:8080/"
        },
        "id": "arMzjvVLGmeL",
        "outputId": "52d75de3-b105-48b9-f0b7-3126ef114f88"
      },
      "source": [
        "y_train=y_train.reshape(-1,)     # -1 means we keep the first thing as it is like 50000 and changing 1\n",
        "y_train[:5]"
      ],
      "execution_count": null,
      "outputs": [
        {
          "output_type": "execute_result",
          "data": {
            "text/plain": [
              "array([6, 9, 9, 4, 1], dtype=uint8)"
            ]
          },
          "metadata": {
            "tags": []
          },
          "execution_count": 3
        }
      ]
    },
    {
      "cell_type": "code",
      "metadata": {
        "id": "-MffGZTkHPXh"
      },
      "source": [
        "classes=['aeroplane','automobile','bird','cat','deer','dog','frog','horse','ship','truck']"
      ],
      "execution_count": null,
      "outputs": []
    },
    {
      "cell_type": "code",
      "metadata": {
        "colab": {
          "base_uri": "https://localhost:8080/",
          "height": 35
        },
        "id": "VBFeNjU7Hz-1",
        "outputId": "286d5341-c68d-4a77-a75c-ba0df980c56a"
      },
      "source": [
        "classes[7]"
      ],
      "execution_count": null,
      "outputs": [
        {
          "output_type": "execute_result",
          "data": {
            "application/vnd.google.colaboratory.intrinsic+json": {
              "type": "string"
            },
            "text/plain": [
              "'horse'"
            ]
          },
          "metadata": {
            "tags": []
          },
          "execution_count": 21
        }
      ]
    },
    {
      "cell_type": "code",
      "metadata": {
        "id": "LyzNGVapEv02"
      },
      "source": [
        "# this function is taking x ,y and index and showing image of a particular index\n",
        "def plot_sample(x,y,index):\n",
        "  plt.figure(figsize=(15,2))  # size of image is very large changing the size we can see little bit\n",
        "  plt.imshow(x[index])\n",
        "  plt.xlabel(classes[y[index]])"
      ],
      "execution_count": null,
      "outputs": []
    },
    {
      "cell_type": "code",
      "metadata": {
        "colab": {
          "base_uri": "https://localhost:8080/",
          "height": 173
        },
        "id": "OJHms_QyExDn",
        "outputId": "0e057d17-95be-4ebe-9c86-e7890dda044f"
      },
      "source": [
        "plot_sample(x_train,y_train,0)"
      ],
      "execution_count": null,
      "outputs": [
        {
          "output_type": "display_data",
          "data": {
            "image/png": "[encoded data removed]",
            "text/plain": [
              "<Figure size 1080x144 with 1 Axes>"
            ]
          },
          "metadata": {
            "tags": [],
            "needs_background": "light"
          }
        }
      ]
    },
    {
      "cell_type": "code",
      "metadata": {
        "colab": {
          "base_uri": "https://localhost:8080/",
          "height": 173
        },
        "id": "0KnEmfkNExFk",
        "outputId": "daec26eb-76be-421f-fa33-eae4ecad03a4"
      },
      "source": [
        "plot_sample(x_train,y_train,20)"
      ],
      "execution_count": null,
      "outputs": [
        {
          "output_type": "display_data",
          "data": {
            "image/png": "[encoded data removed]",
            "text/plain": [
              "<Figure size 1080x144 with 1 Axes>"
            ]
          },
          "metadata": {
            "tags": [],
            "needs_background": "light"
          }
        }
      ]
    },
    {
      "cell_type": "markdown",
      "metadata": {
        "id": "jEzzL972LH5A"
      },
      "source": [
        "***Preprocessing***"
      ]
    },
    {
      "cell_type": "code",
      "metadata": {
        "id": "qdmSh8UlExKH"
      },
      "source": [
        "# Now we want to normalize our data\n",
        "# we divide each pixel by 255 coz pixel ranges from 0 to 255 so to normalize them  into 0 to 1 "
      ],
      "execution_count": null,
      "outputs": []
    },
    {
      "cell_type": "code",
      "metadata": {
        "id": "L8KqK11jExM7"
      },
      "source": [
        "x_train=x_train/255\n",
        "x_test=x_test/255"
      ],
      "execution_count": null,
      "outputs": []
    },
    {
      "cell_type": "code",
      "metadata": {
        "colab": {
          "base_uri": "https://localhost:8080/"
        },
        "id": "ke_XkHgdLkRV",
        "outputId": "f3494752-1b65-4c5f-a6fa-c5544670ca6c"
      },
      "source": [
        "ann= models.Sequential([\n",
        "                        layers.Flatten(input_shape=(32,32,3)),   #flatten layer is a first layer which accept 32 by 32 by 3\n",
        "                        layers.Dense(3000,activation='relu'),\n",
        "                        layers.Dense(1000,activation='relu') , # we have 2 deep layers one having 3k neurons and other have 1k neurons\n",
        "                        layers.Dense(10,activation='softmax')  # last  layer have 10 coz we have 10 categories\n",
        "\n",
        "])\n",
        "\n",
        "ann.compile(optimizer='SGD',\n",
        "            loss='sparse_categorical_crossentropy',\n",
        "            metrics=['accuracy']             \n",
        "            )\n",
        "\n",
        "ann.fit(x_train,y_train,epochs=5) "
      ],
      "execution_count": null,
      "outputs": [
        {
          "output_type": "stream",
          "text": [
            "Epoch 1/5\n",
            "1563/1563 [==============================] - 111s 71ms/step - loss: 1.8123 - accuracy: 0.3544\n",
            "Epoch 2/5\n",
            "1563/1563 [==============================] - 109s 69ms/step - loss: 1.6273 - accuracy: 0.4262\n",
            "Epoch 3/5\n",
            "1563/1563 [==============================] - 111s 71ms/step - loss: 1.5426 - accuracy: 0.4584\n",
            "Epoch 4/5\n",
            "1563/1563 [==============================] - 115s 74ms/step - loss: 1.4838 - accuracy: 0.4775\n",
            "Epoch 5/5\n",
            "1563/1563 [==============================] - 109s 70ms/step - loss: 1.4346 - accuracy: 0.4965\n"
          ],
          "name": "stdout"
        },
        {
          "output_type": "execute_result",
          "data": {
            "text/plain": [
              "<tensorflow.python.keras.callbacks.History at 0x7f5e4b988490>"
            ]
          },
          "metadata": {
            "tags": []
          },
          "execution_count": 21
        }
      ]
    },
    {
      "cell_type": "code",
      "metadata": {
        "colab": {
          "base_uri": "https://localhost:8080/"
        },
        "id": "ISLlkchp2yDV",
        "outputId": "5d215596-f61c-4362-8efc-01f9622d832f"
      },
      "source": [
        "ann.evaluate(x_test,y_test)"
      ],
      "execution_count": null,
      "outputs": [
        {
          "output_type": "stream",
          "text": [
            "313/313 [==============================] - 9s 27ms/step - loss: 1.4624 - accuracy: 0.4761\n"
          ],
          "name": "stdout"
        },
        {
          "output_type": "execute_result",
          "data": {
            "text/plain": [
              "[1.4623831510543823, 0.47609999775886536]"
            ]
          },
          "metadata": {
            "tags": []
          },
          "execution_count": 23
        }
      ]
    },
    {
      "cell_type": "code",
      "metadata": {
        "id": "knGhOCLV21fE",
        "colab": {
          "base_uri": "https://localhost:8080/"
        },
        "outputId": "9e2f7c4c-3562-4375-b3d7-0e59c488a1fd"
      },
      "source": [
        "cnn= models.Sequential([\n",
        "                      #cnn\n",
        "                      layers.Conv2D(filters=32,activation='relu',kernel_size=(3,3),input_shape=(32,32,3)), #convolution is detecting the features in your image \n",
        "                      layers.MaxPooling2D((2,2)),  \n",
        "                      #is a type of operation that is typically added to CNNs following individual convolutional layers.\n",
        "                      # When added to a model, max pooling reduces the dimensionality of images by reducing the number of pixels in the output \n",
        "                      #from the previous convolutional layer    \n",
        "                      \n",
        "                      layers.Conv2D(filters=32,kernel_size=(3,3),activation='relu',input_shape=(32,32,3)),       #convolution is detecting the features in your image \n",
        "                      layers.MaxPooling2D((2,2)),      \n",
        "\n",
        "                        #dense\n",
        "                        layers.Flatten(),   \n",
        "                        layers.Dense(3000,activation='relu'),                        \n",
        "                        layers.Dense(10,activation='softmax')  # last  layer have 10 coz we have 10 categories\n",
        "\n",
        "])\n",
        "\n",
        "cnn.compile(optimizer='adam',\n",
        "            loss='sparse_categorical_crossentropy',\n",
        "            metrics=['accuracy']\n",
        "            \n",
        "            )\n",
        "\n",
        "cnn.fit(x_train,y_train,epochs=5)"
      ],
      "execution_count": null,
      "outputs": [
        {
          "output_type": "stream",
          "text": [
            "Epoch 1/5\n",
            "1563/1563 [==============================] - 113s 72ms/step - loss: 1.3614 - accuracy: 0.5135\n",
            "Epoch 2/5\n",
            "1563/1563 [==============================] - 112s 71ms/step - loss: 0.9943 - accuracy: 0.6525\n",
            "Epoch 3/5\n",
            "1563/1563 [==============================] - 113s 72ms/step - loss: 0.7879 - accuracy: 0.7261\n",
            "Epoch 4/5\n",
            "1563/1563 [==============================] - 112s 72ms/step - loss: 0.5959 - accuracy: 0.7930\n",
            "Epoch 5/5\n",
            "1563/1563 [==============================] - 111s 71ms/step - loss: 0.4030 - accuracy: 0.8602\n"
          ],
          "name": "stdout"
        },
        {
          "output_type": "execute_result",
          "data": {
            "text/plain": [
              "<tensorflow.python.keras.callbacks.History at 0x7f5e4b8d2650>"
            ]
          },
          "metadata": {
            "tags": []
          },
          "execution_count": 22
        }
      ]
    },
    {
      "cell_type": "code",
      "metadata": {
        "id": "HjgBsTEv21hI"
      },
      "source": [
        ""
      ],
      "execution_count": null,
      "outputs": []
    },
    {
      "cell_type": "code",
      "metadata": {
        "id": "IUpvf0mR21k_"
      },
      "source": [
        ""
      ],
      "execution_count": null,
      "outputs": []
    },
    {
      "cell_type": "code",
      "metadata": {
        "id": "0FugRlmQ21n5"
      },
      "source": [
        "# hyper tunning"
      ],
      "execution_count": null,
      "outputs": []
    },
    {
      "cell_type": "code",
      "metadata": {
        "id": "IiZQcaEW62gg"
      },
      "source": [
        "def build_model(dropout_rate):\n",
        "  modeel=keras.Sequential()     # coz we need to add all the layers in sequence\n",
        "  modeel.add(layers.Conv2D(filters=64,kernel_size=(3,3),activation='relu',input_shape=(32,32,3))),       \n",
        "  modeel.add(layers.MaxPooling2D((2,2))),            \n",
        "  \n",
        "  modeel.add(layers.Conv2D(filters=64,kernel_size=(3,3),activation='relu')),\n",
        "  modeel.add(layers.MaxPooling2D((2,2))),\n",
        "\n",
        "  modeel.add(layers.Conv2D(filters=64,kernel_size=(3,3),activation='relu')),\n",
        "  modeel.add(layers.MaxPooling2D((2,2))),\n",
        "   \n",
        "  modeel.add(layers.Flatten()),\n",
        "  modeel.add(layers.Dense(3000,activation='relu'))\n",
        "  modeel.add(layers.Dropout(dropout_rate))\n",
        "  modeel.add(layers.Dense(10,activation='softmax'))\n",
        "  modeel.compile(optimizer='adam',                \n",
        "              #loss='sparse_categorical_crossentropy',  \n",
        "              loss=tf.keras.losses.SparseCategoricalCrossentropy(\n",
        "    from_logits=False, reduction=\"auto\", name=\"sparse_categorical_crossentropy\"\n",
        "                )    ,                                          \n",
        "              metrics=['accuracy'] )\n",
        "  return modeel "
      ],
      "execution_count": null,
      "outputs": []
    },
    {
      "cell_type": "code",
      "metadata": {
        "id": "i3w2qUJd66B-"
      },
      "source": [
        "from sklearn.model_selection import GridSearchCV\n",
        "from keras.wrappers.scikit_learn import KerasClassifier\n",
        "\n",
        "moodel=KerasClassifier(build_fn=build_model,verbose=1)\n",
        "\n",
        "dropout_rate=[0.1,0.2,0.3,0.4,0.6]\n",
        "epochs=[5]\n",
        "\n",
        "\n",
        "paramgrid=dict(dropout_rate=dropout_rate,epochs=epochs)\n",
        "\n",
        "grid=GridSearchCV(estimator=moodel,param_grid=paramgrid,cv=3)\n",
        "\n"
      ],
      "execution_count": null,
      "outputs": []
    },
    {
      "cell_type": "code",
      "metadata": {
        "colab": {
          "base_uri": "https://localhost:8080/"
        },
        "id": "r_YGttht66uO",
        "outputId": "4c8570f9-291f-4038-d339-5a435e97e554"
      },
      "source": [
        "grid_result=grid.fit(x_train,y_train)"
      ],
      "execution_count": null,
      "outputs": [
        {
          "output_type": "stream",
          "text": [
            "Epoch 1/5\n",
            "1042/1042 [==============================] - 85s 81ms/step - loss: 1.6217 - accuracy: 0.4008\n",
            "Epoch 2/5\n",
            "1042/1042 [==============================] - 84s 80ms/step - loss: 1.2676 - accuracy: 0.5470\n",
            "Epoch 3/5\n",
            "1042/1042 [==============================] - 84s 80ms/step - loss: 1.1005 - accuracy: 0.6083\n",
            "Epoch 4/5\n",
            "1042/1042 [==============================] - 84s 81ms/step - loss: 0.9910 - accuracy: 0.6484\n",
            "Epoch 5/5\n",
            "1042/1042 [==============================] - 84s 81ms/step - loss: 0.8917 - accuracy: 0.6857\n",
            "521/521 [==============================] - 11s 20ms/step - loss: 1.0148 - accuracy: 0.6457\n",
            "Epoch 1/5\n",
            "1042/1042 [==============================] - 85s 81ms/step - loss: 1.5656 - accuracy: 0.4265\n",
            "Epoch 2/5\n",
            "1042/1042 [==============================] - 90s 86ms/step - loss: 1.1987 - accuracy: 0.5697\n",
            "Epoch 3/5\n",
            "1042/1042 [==============================] - 87s 83ms/step - loss: 1.0398 - accuracy: 0.6324\n",
            "Epoch 4/5\n",
            "1042/1042 [==============================] - 86s 83ms/step - loss: 0.9186 - accuracy: 0.6776\n",
            "Epoch 5/5\n",
            "1042/1042 [==============================] - 86s 83ms/step - loss: 0.8293 - accuracy: 0.7073\n",
            "521/521 [==============================] - 12s 22ms/step - loss: 1.0016 - accuracy: 0.6482\n",
            "Epoch 1/5\n",
            "1042/1042 [==============================] - 88s 84ms/step - loss: 1.5758 - accuracy: 0.4160\n",
            "Epoch 2/5\n",
            "1042/1042 [==============================] - 87s 83ms/step - loss: 1.2004 - accuracy: 0.5708\n",
            "Epoch 3/5\n",
            "1042/1042 [==============================] - 88s 84ms/step - loss: 1.0303 - accuracy: 0.6340\n",
            "Epoch 4/5\n",
            "1042/1042 [==============================] - 86s 82ms/step - loss: 0.9229 - accuracy: 0.6731\n",
            "Epoch 5/5\n",
            "1042/1042 [==============================] - 85s 82ms/step - loss: 0.8299 - accuracy: 0.7027\n",
            "521/521 [==============================] - 11s 21ms/step - loss: 1.0436 - accuracy: 0.6361\n",
            "Epoch 1/5\n",
            "1042/1042 [==============================] - 87s 83ms/step - loss: 1.5780 - accuracy: 0.4187\n",
            "Epoch 2/5\n",
            "1042/1042 [==============================] - 87s 83ms/step - loss: 1.1998 - accuracy: 0.5718\n",
            "Epoch 3/5\n",
            "1042/1042 [==============================] - 86s 83ms/step - loss: 1.0419 - accuracy: 0.6316\n",
            "Epoch 4/5\n",
            "1042/1042 [==============================] - 87s 83ms/step - loss: 0.9219 - accuracy: 0.6738\n",
            "Epoch 5/5\n",
            "1042/1042 [==============================] - 86s 83ms/step - loss: 0.8240 - accuracy: 0.7084\n",
            "521/521 [==============================] - 11s 21ms/step - loss: 0.9405 - accuracy: 0.6760\n",
            "Epoch 1/5\n",
            "1042/1042 [==============================] - 88s 84ms/step - loss: 1.6086 - accuracy: 0.4087\n",
            "Epoch 2/5\n",
            "1042/1042 [==============================] - 87s 84ms/step - loss: 1.2427 - accuracy: 0.5546\n",
            "Epoch 3/5\n",
            "1042/1042 [==============================] - 90s 87ms/step - loss: 1.0765 - accuracy: 0.6154\n",
            "Epoch 4/5\n",
            "1042/1042 [==============================] - 89s 86ms/step - loss: 0.9486 - accuracy: 0.6657\n",
            "Epoch 5/5\n",
            "1042/1042 [==============================] - 88s 85ms/step - loss: 0.8527 - accuracy: 0.6972\n",
            "521/521 [==============================] - 11s 22ms/step - loss: 0.9734 - accuracy: 0.6585\n",
            "Epoch 1/5\n",
            "1042/1042 [==============================] - 90s 86ms/step - loss: 1.5767 - accuracy: 0.4216\n",
            "Epoch 2/5\n",
            "1042/1042 [==============================] - 89s 85ms/step - loss: 1.2081 - accuracy: 0.5678\n",
            "Epoch 3/5\n",
            "1042/1042 [==============================] - 89s 85ms/step - loss: 1.0395 - accuracy: 0.6320\n",
            "Epoch 4/5\n",
            "1042/1042 [==============================] - 88s 85ms/step - loss: 0.9243 - accuracy: 0.6745\n",
            "Epoch 5/5\n",
            "1042/1042 [==============================] - 89s 85ms/step - loss: 0.8217 - accuracy: 0.7106\n",
            "521/521 [==============================] - 12s 22ms/step - loss: 0.9808 - accuracy: 0.6653\n",
            "Epoch 1/5\n",
            "1042/1042 [==============================] - 90s 86ms/step - loss: 1.6251 - accuracy: 0.3995\n",
            "Epoch 2/5\n",
            "1042/1042 [==============================] - 90s 87ms/step - loss: 1.2514 - accuracy: 0.5501\n",
            "Epoch 3/5\n",
            "1042/1042 [==============================] - 89s 85ms/step - loss: 1.0989 - accuracy: 0.6085\n",
            "Epoch 4/5\n",
            "1042/1042 [==============================] - 89s 85ms/step - loss: 0.9917 - accuracy: 0.6456\n",
            "Epoch 5/5\n",
            "1042/1042 [==============================] - 88s 85ms/step - loss: 0.9181 - accuracy: 0.6723\n",
            "521/521 [==============================] - 12s 23ms/step - loss: 1.0041 - accuracy: 0.6500\n",
            "Epoch 1/5\n",
            "1042/1042 [==============================] - 90s 86ms/step - loss: 1.5726 - accuracy: 0.4244\n",
            "Epoch 2/5\n",
            "1042/1042 [==============================] - 89s 85ms/step - loss: 1.2115 - accuracy: 0.5703\n",
            "Epoch 3/5\n",
            "1042/1042 [==============================] - 89s 85ms/step - loss: 1.0662 - accuracy: 0.6204\n",
            "Epoch 4/5\n",
            "1042/1042 [==============================] - 88s 85ms/step - loss: 0.9593 - accuracy: 0.6626\n",
            "Epoch 5/5\n",
            "1042/1042 [==============================] - 89s 85ms/step - loss: 0.8727 - accuracy: 0.6934\n",
            "521/521 [==============================] - 11s 22ms/step - loss: 0.9800 - accuracy: 0.6567\n",
            "Epoch 1/5\n",
            "1042/1042 [==============================] - 88s 84ms/step - loss: 1.5739 - accuracy: 0.4214\n",
            "Epoch 2/5\n",
            "1042/1042 [==============================] - 87s 84ms/step - loss: 1.2091 - accuracy: 0.5666\n",
            "Epoch 3/5\n",
            "1042/1042 [==============================] - 87s 84ms/step - loss: 1.0600 - accuracy: 0.6248\n",
            "Epoch 4/5\n",
            "1042/1042 [==============================] - 87s 84ms/step - loss: 0.9504 - accuracy: 0.6631\n",
            "Epoch 5/5\n",
            "1042/1042 [==============================] - 87s 83ms/step - loss: 0.8622 - accuracy: 0.6955\n",
            "521/521 [==============================] - 11s 21ms/step - loss: 0.9430 - accuracy: 0.6687\n",
            "Epoch 1/5\n",
            "1042/1042 [==============================] - 92s 88ms/step - loss: 1.5887 - accuracy: 0.4112\n",
            "Epoch 2/5\n",
            "1042/1042 [==============================] - 90s 86ms/step - loss: 1.2172 - accuracy: 0.5642\n",
            "Epoch 3/5\n",
            "1042/1042 [==============================] - 91s 87ms/step - loss: 1.0591 - accuracy: 0.6235\n",
            "Epoch 4/5\n",
            "1042/1042 [==============================] - 91s 87ms/step - loss: 0.9429 - accuracy: 0.6672\n",
            "Epoch 5/5\n",
            "1042/1042 [==============================] - 90s 87ms/step - loss: 0.8549 - accuracy: 0.6974\n",
            "521/521 [==============================] - 11s 21ms/step - loss: 0.9383 - accuracy: 0.6687\n",
            "Epoch 1/5\n",
            "1042/1042 [==============================] - 89s 85ms/step - loss: 1.5884 - accuracy: 0.4133\n",
            "Epoch 2/5\n",
            "1042/1042 [==============================] - 87s 84ms/step - loss: 1.2321 - accuracy: 0.5577\n",
            "Epoch 3/5\n",
            "1042/1042 [==============================] - 87s 84ms/step - loss: 1.0837 - accuracy: 0.6160\n",
            "Epoch 4/5\n",
            "1042/1042 [==============================] - 87s 83ms/step - loss: 0.9717 - accuracy: 0.6592\n",
            "Epoch 5/5\n",
            "1042/1042 [==============================] - 88s 84ms/step - loss: 0.8896 - accuracy: 0.6862\n",
            "521/521 [==============================] - 11s 21ms/step - loss: 0.9500 - accuracy: 0.6647\n",
            "Epoch 1/5\n",
            "1042/1042 [==============================] - 91s 87ms/step - loss: 1.5905 - accuracy: 0.4116\n",
            "Epoch 2/5\n",
            "1042/1042 [==============================] - 91s 87ms/step - loss: 1.2232 - accuracy: 0.5598\n",
            "Epoch 3/5\n",
            "1042/1042 [==============================] - 86s 83ms/step - loss: 1.0544 - accuracy: 0.6272\n",
            "Epoch 4/5\n",
            "1042/1042 [==============================] - 86s 82ms/step - loss: 0.9468 - accuracy: 0.6641\n",
            "Epoch 5/5\n",
            "1042/1042 [==============================] - 85s 82ms/step - loss: 0.8569 - accuracy: 0.6969\n",
            "521/521 [==============================] - 11s 21ms/step - loss: 0.9647 - accuracy: 0.6667\n",
            "Epoch 1/5\n",
            "1042/1042 [==============================] - 100s 95ms/step - loss: 1.6376 - accuracy: 0.3954\n",
            "Epoch 2/5\n",
            "1042/1042 [==============================] - 99s 95ms/step - loss: 1.2790 - accuracy: 0.5421\n",
            "Epoch 3/5\n",
            "1042/1042 [==============================] - 97s 93ms/step - loss: 1.1309 - accuracy: 0.5960\n",
            "Epoch 4/5\n",
            "1042/1042 [==============================] - 98s 95ms/step - loss: 1.0354 - accuracy: 0.6344\n",
            "Epoch 5/5\n",
            "1042/1042 [==============================] - 101s 97ms/step - loss: 0.9546 - accuracy: 0.6632\n",
            "521/521 [==============================] - 11s 21ms/step - loss: 1.0418 - accuracy: 0.6372\n",
            "Epoch 1/5\n",
            "1042/1042 [==============================] - 100s 96ms/step - loss: 1.6293 - accuracy: 0.3968\n",
            "Epoch 2/5\n",
            "1042/1042 [==============================] - 99s 95ms/step - loss: 1.2670 - accuracy: 0.5467\n",
            "Epoch 3/5\n",
            "1042/1042 [==============================] - 100s 96ms/step - loss: 1.1022 - accuracy: 0.6095\n",
            "Epoch 4/5\n",
            "1042/1042 [==============================] - 100s 96ms/step - loss: 0.9925 - accuracy: 0.6505\n",
            "Epoch 5/5\n",
            "1042/1042 [==============================] - 99s 95ms/step - loss: 0.9160 - accuracy: 0.6801\n",
            "521/521 [==============================] - 11s 22ms/step - loss: 0.9536 - accuracy: 0.6639\n",
            "Epoch 1/5\n",
            "1042/1042 [==============================] - 102s 97ms/step - loss: 1.6318 - accuracy: 0.4008\n",
            "Epoch 2/5\n",
            "1042/1042 [==============================] - 100s 96ms/step - loss: 1.2559 - accuracy: 0.5541\n",
            "Epoch 3/5\n",
            "1042/1042 [==============================] - 100s 96ms/step - loss: 1.1087 - accuracy: 0.6093\n",
            "Epoch 4/5\n",
            "1042/1042 [==============================] - 100s 96ms/step - loss: 1.0059 - accuracy: 0.6441\n",
            "Epoch 5/5\n",
            "1042/1042 [==============================] - 96s 93ms/step - loss: 0.9418 - accuracy: 0.6671\n",
            "521/521 [==============================] - 11s 21ms/step - loss: 1.0145 - accuracy: 0.6444\n",
            "Epoch 1/5\n",
            "1563/1563 [==============================] - 135s 86ms/step - loss: 1.4914 - accuracy: 0.4542\n",
            "Epoch 2/5\n",
            "1563/1563 [==============================] - 131s 84ms/step - loss: 1.1315 - accuracy: 0.5999\n",
            "Epoch 3/5\n",
            "1563/1563 [==============================] - 131s 84ms/step - loss: 0.9839 - accuracy: 0.6526\n",
            "Epoch 4/5\n",
            "1563/1563 [==============================] - 130s 83ms/step - loss: 0.8825 - accuracy: 0.6913\n",
            "Epoch 5/5\n",
            "1563/1563 [==============================] - 130s 83ms/step - loss: 0.8002 - accuracy: 0.7207\n"
          ],
          "name": "stdout"
        }
      ]
    },
    {
      "cell_type": "code",
      "metadata": {
        "id": "6LjuKSom66xB",
        "colab": {
          "base_uri": "https://localhost:8080/"
        },
        "outputId": "9be57550-8d48-47b2-bea2-4240326f4d9d"
      },
      "source": [
        "# summarise result\n",
        "print(\"Best: %f using %s\" % (grid_result.best_score_, grid_result.best_params_))\n",
        "means = grid_result.cv_results_['mean_test_score']\n",
        "stds = grid_result.cv_results_['std_test_score']\n",
        "params = grid_result.cv_results_['params']\n",
        "for mean, stdev, param in zip(means, stds, params):\n",
        "    print(\"%f (%f) with: %r\" % (mean, stdev, param))"
      ],
      "execution_count": null,
      "outputs": [
        {
          "output_type": "stream",
          "text": [
            "Best: 0.666720 using {'dropout_rate': 0.4, 'epochs': 5}\n",
            "0.643340 (0.005232) with: {'dropout_rate': 0.1, 'epochs': 5}\n",
            "0.666600 (0.007211) with: {'dropout_rate': 0.2, 'epochs': 5}\n",
            "0.658460 (0.007761) with: {'dropout_rate': 0.3, 'epochs': 5}\n",
            "0.666720 (0.001617) with: {'dropout_rate': 0.4, 'epochs': 5}\n",
            "0.648520 (0.011302) with: {'dropout_rate': 0.6, 'epochs': 5}\n"
          ],
          "name": "stdout"
        }
      ]
    },
    {
      "cell_type": "code",
      "metadata": {
        "id": "atu59jMW66z3"
      },
      "source": [
        ""
      ],
      "execution_count": null,
      "outputs": []
    }
  ]
}